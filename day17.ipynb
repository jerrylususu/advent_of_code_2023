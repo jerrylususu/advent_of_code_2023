{
 "cells": [
  {
   "cell_type": "code",
   "execution_count": null,
   "metadata": {},
   "outputs": [],
   "source": [
    "# failed attempt, not working!!"
   ]
  },
  {
   "cell_type": "code",
   "execution_count": 1,
   "metadata": {},
   "outputs": [],
   "source": [
    "with open(\"debug.txt\", \"r\") as f:\n",
    "    lines = f.readlines()\n",
    "\n",
    "pattern = []\n",
    "for line in lines:\n",
    "    pattern.append([int(char) for char in line.strip()])\n",
    "# make pattern a tuple\n",
    "pattern = tuple(tuple(row) for row in pattern)"
   ]
  },
  {
   "cell_type": "code",
   "execution_count": 2,
   "metadata": {},
   "outputs": [
    {
     "data": {
      "text/plain": [
       "((2, 4, 1, 3, 4, 3, 2, 3, 1, 1, 3, 2, 3),\n",
       " (3, 2, 1, 5, 4, 5, 3, 5, 3, 5, 6, 2, 3),\n",
       " (3, 2, 5, 5, 2, 4, 5, 6, 5, 4, 2, 5, 4),\n",
       " (3, 4, 4, 6, 5, 8, 5, 8, 4, 5, 4, 5, 2),\n",
       " (4, 5, 4, 6, 6, 5, 7, 8, 6, 7, 5, 3, 6),\n",
       " (1, 4, 3, 8, 5, 9, 8, 7, 9, 8, 4, 5, 4),\n",
       " (4, 4, 5, 7, 8, 7, 6, 9, 8, 7, 7, 6, 6),\n",
       " (3, 6, 3, 7, 8, 7, 7, 9, 7, 9, 6, 5, 3),\n",
       " (4, 6, 5, 4, 9, 6, 7, 9, 8, 6, 8, 8, 7),\n",
       " (4, 5, 6, 4, 6, 7, 9, 9, 8, 6, 4, 5, 3),\n",
       " (1, 2, 2, 4, 6, 8, 6, 8, 6, 5, 5, 6, 3),\n",
       " (2, 5, 4, 6, 5, 4, 8, 8, 8, 7, 7, 3, 5),\n",
       " (4, 3, 2, 2, 6, 7, 4, 6, 5, 5, 5, 3, 3))"
      ]
     },
     "execution_count": 2,
     "metadata": {},
     "output_type": "execute_result"
    }
   ],
   "source": [
    "pattern"
   ]
  },
  {
   "cell_type": "code",
   "execution_count": 3,
   "metadata": {},
   "outputs": [],
   "source": [
    "def generate_next_pos(cur_row, cur_col, last_direction, last_direction_count, pattern_row_len, pattern_col_len):\n",
    "    # can move up/down/left/right\n",
    "    # if has been on the same direction for more than 3 steps, need to change direction\n",
    "\n",
    "    possible_next_steps = [\n",
    "        # up\n",
    "        [cur_row - 1, cur_col, \"up\", 0],\n",
    "        # down\n",
    "        [cur_row + 1, cur_col, \"down\", 0],\n",
    "        # left\n",
    "        [cur_row, cur_col - 1, \"left\", 0],\n",
    "        # right\n",
    "        [cur_row, cur_col + 1, \"right\", 0],\n",
    "    ]\n",
    "\n",
    "    # can not go back\n",
    "    if last_direction == \"up\":\n",
    "        possible_next_steps.remove([cur_row + 1, cur_col, \"down\", 0])\n",
    "    elif last_direction == \"down\":\n",
    "        possible_next_steps.remove([cur_row - 1, cur_col, \"up\", 0])\n",
    "    elif last_direction == \"left\":\n",
    "        possible_next_steps.remove([cur_row, cur_col + 1, \"right\", 0])\n",
    "    elif last_direction == \"right\":\n",
    "        possible_next_steps.remove([cur_row, cur_col - 1, \"left\", 0])\n",
    "\n",
    "    # remove out of border ones\n",
    "    possible_next_steps = [step for step in possible_next_steps if step[0] >= 0 and step[0] < pattern_row_len and step[1] >= 0 and step[1] < pattern_col_len]\n",
    "\n",
    "    # fix the direction count\n",
    "    for step in possible_next_steps:\n",
    "        if step[2] == last_direction:\n",
    "            step[3] = last_direction_count + 1\n",
    "    \n",
    "    # remove if same direction more than 3\n",
    "    # TODO: selection point?\n",
    "    possible_next_steps = [step for step in possible_next_steps if step[3] < 3]\n",
    "\n",
    "    \n",
    "\n",
    "    return possible_next_steps"
   ]
  },
  {
   "cell_type": "code",
   "execution_count": 4,
   "metadata": {},
   "outputs": [],
   "source": [
    "pattern_row_len, pattern_col_len = len(pattern), len(pattern[0])\n",
    "cur_row, cur_col = 0, 0"
   ]
  },
  {
   "cell_type": "code",
   "execution_count": 5,
   "metadata": {},
   "outputs": [],
   "source": [
    "from functools import cache"
   ]
  },
  {
   "cell_type": "code",
   "execution_count": 6,
   "metadata": {},
   "outputs": [],
   "source": [
    "def estimate_distance(cur_row, cur_col, target_row, target_col):\n",
    "    # manhattan distance\n",
    "    return abs(cur_row - target_row) + abs(cur_col - target_col)"
   ]
  },
  {
   "cell_type": "code",
   "execution_count": 7,
   "metadata": {},
   "outputs": [],
   "source": [
    "def get_middle_weights(path_str, pattern):\n",
    "    path_points = [i for i in path_str.split(\"|\") if i != \"\"]\n",
    "    path_points = [[int(i) for i in point.split(\",\")] for point in path_points]\n",
    "    weights = []\n",
    "    for point in path_points:\n",
    "        weights.append(pattern[point[0]][point[1]])\n",
    "    return weights"
   ]
  },
  {
   "cell_type": "code",
   "execution_count": 8,
   "metadata": {},
   "outputs": [],
   "source": [
    "def find_route_to_end_a_star(cur_row, cur_col, last_direction, last_direction_count, pattern):\n",
    "\n",
    "    # target is the bottom right corner\n",
    "    explored_list = []\n",
    "    not_explored_list = []\n",
    "\n",
    "    pattern_row_len, pattern_col_len = len(pattern), len(pattern[0])\n",
    "    target_row, target_col = pattern_row_len - 1, pattern_col_len - 1\n",
    "\n",
    "    # step structure\n",
    "    # cur_row, cur_col, last_direction, last_direction_count, f=g+h, parent_cords \n",
    "\n",
    "    # add the first step\n",
    "    not_explored_list.append([cur_row, cur_col, last_direction, last_direction_count, 0 + estimate_distance(cur_row, cur_col, target_row, target_col), \"\"])\n",
    "\n",
    "    while len(not_explored_list) > 0:\n",
    "        # find the one with the smallest f\n",
    "        min_f = 99999999\n",
    "        min_f_index = 0\n",
    "        for i, step in enumerate(not_explored_list):\n",
    "            f = step[4]\n",
    "            if f < min_f:\n",
    "                min_f = f\n",
    "                min_f_index = i\n",
    "        \n",
    "        # debug\n",
    "        print(\"not explored\", not_explored_list)\n",
    "\n",
    "        # pop the one with the smallest f\n",
    "        cur_step = not_explored_list.pop(min_f_index)\n",
    "        print(f\"min_f: {min_f}, min_f_index: {min_f_index}\", \"cur_step:\", cur_step)\n",
    "\n",
    "        # check if it is the target\n",
    "        if cur_step[0] == pattern_row_len - 1 and cur_step[1] == pattern_col_len - 1:\n",
    "            print(\"at target, path=\", cur_step[5])\n",
    "            middle_weights = get_middle_weights(cur_step[5], pattern)\n",
    "            return sum(middle_weights) + pattern[-1][-1]\n",
    "        \n",
    "        # add to explored list\n",
    "        explored_list.append(cur_step)\n",
    "\n",
    "        # generate next steps\n",
    "        possible_next_steps = generate_next_pos(cur_step[0], cur_step[1], cur_step[2], cur_step[3], pattern_row_len, pattern_col_len)\n",
    "\n",
    "        # add distance estimate on them\n",
    "        current_weight = pattern[cur_step[0]][cur_step[1]]\n",
    "        for step in possible_next_steps:\n",
    "            # TODO: ???\n",
    "            previous_weights = get_middle_weights(cur_step[5], pattern)\n",
    "            step.append(sum(previous_weights) + current_weight + estimate_distance(step[0], step[1], target_row, target_col))\n",
    "            step.append(cur_step[5] + str(cur_step[0]) + \",\" + str(cur_step[1]) + \"|\")\n",
    "\n",
    "        # add to not explored list\n",
    "        for step in possible_next_steps:\n",
    "            # check if it is in the explored list\n",
    "            if step in explored_list:\n",
    "                continue\n",
    "            # check if it is in the not explored list\n",
    "            if step in not_explored_list:\n",
    "                # check if the f is smaller\n",
    "                for i, not_explored_step in enumerate(not_explored_list):\n",
    "                    if step == not_explored_step:\n",
    "                        if step[4] < not_explored_step[4]:\n",
    "                            # replace\n",
    "                            not_explored_list[i] = step\n",
    "                        break\n",
    "            else:\n",
    "                # add to not explored list\n",
    "                not_explored_list.append(step)\n"
   ]
  },
  {
   "cell_type": "code",
   "execution_count": 9,
   "metadata": {},
   "outputs": [],
   "source": [
    "# find_route_to_end_a_star(0,1, \"right\", 1, pattern)"
   ]
  },
  {
   "cell_type": "code",
   "execution_count": null,
   "metadata": {},
   "outputs": [],
   "source": []
  }
 ],
 "metadata": {
  "kernelspec": {
   "display_name": "Python 3",
   "language": "python",
   "name": "python3"
  },
  "language_info": {
   "codemirror_mode": {
    "name": "ipython",
    "version": 3
   },
   "file_extension": ".py",
   "mimetype": "text/x-python",
   "name": "python",
   "nbconvert_exporter": "python",
   "pygments_lexer": "ipython3",
   "version": "3.9.13"
  }
 },
 "nbformat": 4,
 "nbformat_minor": 2
}
