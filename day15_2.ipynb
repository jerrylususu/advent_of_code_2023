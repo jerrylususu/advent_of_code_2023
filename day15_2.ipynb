{
 "cells": [
  {
   "cell_type": "code",
   "execution_count": 24,
   "metadata": {},
   "outputs": [],
   "source": [
    "with open(\"day15.txt\", \"r\") as f:\n",
    "    data = f.read()"
   ]
  },
  {
   "cell_type": "code",
   "execution_count": 25,
   "metadata": {},
   "outputs": [
    {
     "data": {
      "text/plain": [
       "22866"
      ]
     },
     "execution_count": 25,
     "metadata": {},
     "output_type": "execute_result"
    }
   ],
   "source": [
    "len(data)"
   ]
  },
  {
   "cell_type": "code",
   "execution_count": 26,
   "metadata": {},
   "outputs": [],
   "source": [
    "splited = data.split(\",\")"
   ]
  },
  {
   "cell_type": "code",
   "execution_count": 27,
   "metadata": {},
   "outputs": [
    {
     "data": {
      "text/plain": [
       "4000"
      ]
     },
     "execution_count": 27,
     "metadata": {},
     "output_type": "execute_result"
    }
   ],
   "source": [
    "len(splited)"
   ]
  },
  {
   "cell_type": "code",
   "execution_count": 28,
   "metadata": {},
   "outputs": [],
   "source": [
    "def calc_hash(s):\n",
    "    # Determine the ASCII code for the current character of the string.\n",
    "    # Increase the current value by the ASCII code you just determined.\n",
    "    # Set the current value to itself multiplied by 17.\n",
    "    # Set the current value to the remainder of dividing itself by 256.\n",
    "    hash_value = 0\n",
    "    for c in s:\n",
    "        hash_value += ord(c)\n",
    "        hash_value *= 17\n",
    "        hash_value %= 256\n",
    "    return hash_value"
   ]
  },
  {
   "cell_type": "code",
   "execution_count": 29,
   "metadata": {},
   "outputs": [],
   "source": [
    "def parse_op(s):\n",
    "    if \"=\" in s:\n",
    "        name, value = s.split(\"=\")\n",
    "        name_hash = calc_hash(name)\n",
    "        value = int(value)\n",
    "        return (\"set\", name_hash, name, value)\n",
    "    elif \"-\" in s:\n",
    "        name = s.split(\"-\")[0]\n",
    "        name_hash = calc_hash(name)\n",
    "        return (\"del\", name_hash, name, None)"
   ]
  },
  {
   "cell_type": "code",
   "execution_count": 30,
   "metadata": {},
   "outputs": [
    {
     "data": {
      "text/plain": [
       "290779"
      ]
     },
     "execution_count": 30,
     "metadata": {},
     "output_type": "execute_result"
    }
   ],
   "source": [
    "boxes = [[] for i in range(256)]\n",
    "for s in splited:\n",
    "    op, name_hash, op_name, op_value = parse_op(s)\n",
    "    # print(op, name_hash, op_name, op_value)\n",
    "    if op == \"set\":\n",
    "        # if exist same name replace\n",
    "        if op_name in [name for name, value in boxes[name_hash]]:\n",
    "            for i, (name, value) in enumerate(boxes[name_hash]):\n",
    "                if op_name == name:\n",
    "                    boxes[name_hash][i] = (op_name, op_value)\n",
    "        # otherwise append\n",
    "        else:\n",
    "            boxes[name_hash].append((op_name, op_value))\n",
    "    elif op == \"del\":\n",
    "        # if exist del\n",
    "        if op_name in [name for name, value in boxes[name_hash]]:\n",
    "            for i, (name, value) in enumerate(boxes[name_hash]):\n",
    "                if op_name == name:\n",
    "                    boxes[name_hash].pop(i)\n",
    "        # otherwise do nothing\n",
    "\n",
    "    # print(boxes[0:4])\n",
    "\n",
    "result = 0\n",
    "for box_idx, box in enumerate(boxes):\n",
    "    for idx, (name, value) in enumerate(box):\n",
    "        result += (box_idx + 1) * (idx + 1) * value\n",
    "result\n",
    "    \n"
   ]
  },
  {
   "cell_type": "code",
   "execution_count": null,
   "metadata": {},
   "outputs": [],
   "source": []
  }
 ],
 "metadata": {
  "kernelspec": {
   "display_name": "myenv",
   "language": "python",
   "name": "python3"
  },
  "language_info": {
   "codemirror_mode": {
    "name": "ipython",
    "version": 3
   },
   "file_extension": ".py",
   "mimetype": "text/x-python",
   "name": "python",
   "nbconvert_exporter": "python",
   "pygments_lexer": "ipython3",
   "version": "3.9.6"
  }
 },
 "nbformat": 4,
 "nbformat_minor": 2
}
