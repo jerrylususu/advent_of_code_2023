{
 "cells": [
  {
   "cell_type": "code",
   "execution_count": 4,
   "metadata": {},
   "outputs": [],
   "source": [
    "with open(\"debug.txt\", \"r\") as f:\n",
    "    lines = [line.strip() for line in f.readlines()]\n",
    "    grid = []\n",
    "    for line in lines:\n",
    "        grid.append([c for c in line])"
   ]
  },
  {
   "cell_type": "code",
   "execution_count": 5,
   "metadata": {},
   "outputs": [
    {
     "data": {
      "text/plain": [
       "[['.', '.', '.', '.', '.', '.', '.', '.', '.', '.', '.'],\n",
       " ['.', '.', '.', '.', '.', '#', '#', '#', '.', '#', '.'],\n",
       " ['.', '#', '#', '#', '.', '#', '#', '.', '.', '#', '.'],\n",
       " ['.', '.', '#', '.', '#', '.', '.', '.', '#', '.', '.'],\n",
       " ['.', '.', '.', '.', '#', '.', '#', '.', '.', '.', '.'],\n",
       " ['.', '#', '#', '.', '.', 'S', '#', '#', '#', '#', '.'],\n",
       " ['.', '#', '#', '.', '.', '#', '.', '.', '.', '#', '.'],\n",
       " ['.', '.', '.', '.', '.', '.', '.', '#', '#', '.', '.'],\n",
       " ['.', '#', '#', '.', '#', '.', '#', '#', '#', '#', '.'],\n",
       " ['.', '#', '#', '.', '.', '#', '#', '.', '#', '#', '.'],\n",
       " ['.', '.', '.', '.', '.', '.', '.', '.', '.', '.', '.']]"
      ]
     },
     "execution_count": 5,
     "metadata": {},
     "output_type": "execute_result"
    }
   ],
   "source": [
    "grid"
   ]
  },
  {
   "cell_type": "code",
   "execution_count": 6,
   "metadata": {},
   "outputs": [],
   "source": [
    "def locate_start(grid):\n",
    "    for row in range(len(grid)):\n",
    "        for col in range(len(grid[row])):\n",
    "            if grid[row][col] == \"S\":\n",
    "                return (row, col)\n",
    "    raise Exception(\"No start found\")"
   ]
  },
  {
   "cell_type": "code",
   "execution_count": 7,
   "metadata": {},
   "outputs": [
    {
     "data": {
      "text/plain": [
       "(5, 5)"
      ]
     },
     "execution_count": 7,
     "metadata": {},
     "output_type": "execute_result"
    }
   ],
   "source": [
    "start = locate_start(grid)\n",
    "start"
   ]
  },
  {
   "cell_type": "code",
   "execution_count": 8,
   "metadata": {},
   "outputs": [],
   "source": [
    "def get_next_locations(grid, cur_row, cur_col):\n",
    "    locations = []\n",
    "\n",
    "    # the map wraps around\n",
    "    next_steps = [(cur_row - 1, cur_col), (cur_row + 1, cur_col), (cur_row, cur_col - 1), (cur_row, cur_col + 1)]\n",
    "    for next_step in next_steps:\n",
    "        next_row, next_col = next_step\n",
    "        real_row, real_col = next_row % len(grid), next_col % len(grid[next_row % len(grid)])\n",
    "        if grid[real_row][real_col] != \"#\":\n",
    "            locations.append((next_row, next_col))\n",
    "    return locations"
   ]
  },
  {
   "cell_type": "code",
   "execution_count": 45,
   "metadata": {},
   "outputs": [],
   "source": [
    "import json\n",
    "debug_grid = json.loads(json.dumps(grid))\n",
    "for row in range(len(debug_grid)):\n",
    "    for col in range(len(debug_grid[row])):\n",
    "        if debug_grid[row][col] == \"S\":\n",
    "            debug_grid[row][col] = \"00\"\n",
    "        elif debug_grid[row][col] == \"#\":\n",
    "            debug_grid[row][col] = \"##\"\n",
    "        else:\n",
    "            debug_grid[row][col] = \"  \"\n",
    "\n",
    "queue = []\n",
    "visited = set()\n",
    "visited_with_depth = []\n",
    "\n",
    "start_row, start_col = start\n",
    "queue.append((start_row, start_col, 0))\n",
    "\n",
    "depth = 20\n",
    "\n",
    "while len(queue) > 0:\n",
    "    cur_row, cur_col, cur_depth = queue.pop(0)\n",
    "\n",
    "    if cur_depth > depth:\n",
    "        continue\n",
    "    if (cur_row, cur_col) in visited:\n",
    "        continue\n",
    "    visited.add((cur_row, cur_col))\n",
    "    visited_with_depth.append((cur_row, cur_col, cur_depth))\n",
    "\n",
    "\n",
    "    if cur_row >= 0 and cur_row < len(debug_grid) and cur_col >= 0 and cur_col < len(debug_grid[cur_row]):\n",
    "        # 2digit 0x 1x...\n",
    "        debug_grid[cur_row][cur_col] = f\"{cur_depth:02}\"\n",
    "\n",
    "    nexts = get_next_locations(grid, cur_row, cur_col)\n",
    "    for next in nexts:\n",
    "        next_row, next_col = next\n",
    "        queue.append((next_row, next_col, cur_depth + 1))"
   ]
  },
  {
   "cell_type": "code",
   "execution_count": 46,
   "metadata": {},
   "outputs": [
    {
     "data": {
      "text/plain": [
       "[['10', '11', '12', '13', '12', '11', '10', '09', '08', '09', '10'],\n",
       " ['09', '10', '11', '12', '13', '##', '##', '##', '07', '##', '11'],\n",
       " ['08', '##', '##', '##', '14', '##', '##', '05', '06', '##', '10'],\n",
       " ['07', '06', '##', '04', '##', '02', '03', '04', '##', '08', '09'],\n",
       " ['06', '05', '04', '03', '##', '01', '##', '05', '06', '07', '08'],\n",
       " ['07', '##', '##', '02', '01', '00', '##', '##', '##', '##', '09'],\n",
       " ['08', '##', '##', '03', '02', '##', '06', '07', '08', '##', '10'],\n",
       " ['07', '06', '05', '04', '03', '04', '05', '##', '##', '12', '11'],\n",
       " ['08', '##', '##', '05', '##', '05', '##', '##', '##', '##', '12'],\n",
       " ['09', '##', '##', '06', '07', '##', '##', '12', '##', '##', '13'],\n",
       " ['10', '09', '08', '07', '08', '09', '10', '11', '12', '13', '14']]"
      ]
     },
     "execution_count": 46,
     "metadata": {},
     "output_type": "execute_result"
    }
   ],
   "source": [
    "debug_grid"
   ]
  },
  {
   "cell_type": "code",
   "execution_count": 25,
   "metadata": {},
   "outputs": [
    {
     "name": "stdout",
     "output_type": "stream",
     "text": [
      "i 0 cnt 1\n",
      "i 10 cnt 50\n",
      "i 20 cnt 216\n",
      "i 30 cnt 537\n",
      "i 40 cnt 989\n",
      "i 50 cnt 1594\n",
      "i 60 cnt 2324\n",
      "i 70 cnt 3186\n",
      "i 80 cnt 4155\n",
      "i 90 cnt 5288\n",
      "i 100 cnt 6536\n",
      "i 110 cnt 7934\n",
      "i 120 cnt 9497\n",
      "i 130 cnt 11227\n",
      "i 140 cnt 13023\n",
      "i 150 cnt 14919\n",
      "i 160 cnt 17004\n",
      "i 170 cnt 19194\n",
      "i 180 cnt 21516\n",
      "i 190 cnt 23925\n",
      "i 200 cnt 26538\n",
      "i 210 cnt 29246\n",
      "i 220 cnt 32124\n",
      "i 230 cnt 35197\n",
      "i 240 cnt 38457\n",
      "i 250 cnt 41713\n",
      "i 260 cnt 45049\n",
      "i 270 cnt 48614\n",
      "i 280 cnt 52264\n",
      "i 290 cnt 56046\n",
      "i 300 cnt 59895\n"
     ]
    }
   ],
   "source": [
    "counts = []\n",
    "for i in range(0, 300, 10):\n",
    "    queue = []\n",
    "    visited = set()\n",
    "    visited_with_depth = []\n",
    "\n",
    "    start_row, start_col = start\n",
    "    queue.append((start_row, start_col, 0))\n",
    "\n",
    "    depth = i\n",
    "\n",
    "    while len(queue) > 0:\n",
    "        cur_row, cur_col, cur_depth = queue.pop(0)\n",
    "        if cur_depth > depth:\n",
    "            continue\n",
    "        if (cur_row, cur_col) in visited:\n",
    "            continue\n",
    "        visited.add((cur_row, cur_col))\n",
    "        visited_with_depth.append((cur_row, cur_col, cur_depth))\n",
    "\n",
    "        nexts = get_next_locations(grid, cur_row, cur_col)\n",
    "        for next in nexts:\n",
    "            next_row, next_col = next\n",
    "            queue.append((next_row, next_col, cur_depth + 1))\n",
    "    \n",
    "    count = len([i for i in visited_with_depth if i[2] % 2 == 0])\n",
    "    counts.append((i, count))\n",
    "    print(\"i\", i, \"cnt\", count)\n"
   ]
  },
  {
   "cell_type": "code",
   "execution_count": 13,
   "metadata": {},
   "outputs": [],
   "source": [
    "visited_with_depth_100 = visited_with_depth"
   ]
  },
  {
   "cell_type": "code",
   "execution_count": null,
   "metadata": {},
   "outputs": [],
   "source": []
  }
 ],
 "metadata": {
  "kernelspec": {
   "display_name": "myenv",
   "language": "python",
   "name": "python3"
  },
  "language_info": {
   "codemirror_mode": {
    "name": "ipython",
    "version": 3
   },
   "file_extension": ".py",
   "mimetype": "text/x-python",
   "name": "python",
   "nbconvert_exporter": "python",
   "pygments_lexer": "ipython3",
   "version": "3.9.6"
  }
 },
 "nbformat": 4,
 "nbformat_minor": 2
}
