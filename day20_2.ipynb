{
 "cells": [
  {
   "cell_type": "code",
   "execution_count": 88,
   "metadata": {},
   "outputs": [],
   "source": [
    "def parse_lines(lines):\n",
    "    node_map = {}\n",
    "    for line in lines:\n",
    "        source, targets = line.split(\" -> \")\n",
    "        tmp_map = {}\n",
    "        state = \"none\"\n",
    "        # get source & source type\n",
    "        source_type = \"none\"\n",
    "        if source == \"broadcaster\":\n",
    "            source_type = \"broadcaster\"\n",
    "        elif source.startswith(\"%\"):\n",
    "            source_type = \"flipflop\"\n",
    "            source = source[1:]\n",
    "            state = \"off\"\n",
    "            tmp_map[\"state\"] = state\n",
    "        elif source.startswith(\"&\"):\n",
    "            source_type = \"conjunction\"\n",
    "            source = source[1:]\n",
    "            memory = {}\n",
    "            tmp_map[\"memory\"] = memory\n",
    "        # build targets list\n",
    "        targets = targets.split(\", \")\n",
    "        # add to node map\n",
    "        node_map[source] = {}\n",
    "        node_map[source][\"type\"] = source_type\n",
    "        node_map[source][\"targets\"] = targets\n",
    "        node_map[source][\"from\"] = [] \n",
    "        node_map[source][\"name\"] = source\n",
    "        for k,v in tmp_map.items():\n",
    "            node_map[source][k] = v\n",
    "\n",
    "    # check if all targets exist\n",
    "    new_node_map = {}\n",
    "    for node, node_info in node_map.items():\n",
    "        for target in node_info[\"targets\"]:\n",
    "            if target not in node_map:\n",
    "                new_node_map[target] = {}\n",
    "                new_node_map[target][\"type\"] = \"none\"\n",
    "                new_node_map[target][\"targets\"] = []\n",
    "                new_node_map[target][\"from\"] = []\n",
    "                new_node_map[target][\"name\"] = target\n",
    "                print(f\"Node {target} not found, creating...\")\n",
    "    node_map.update(new_node_map)\n",
    "\n",
    "    # also build a from list\n",
    "    for node, node_info in node_map.items():\n",
    "        for target in node_info[\"targets\"]:\n",
    "            if target not in node_map:\n",
    "                raise Exception(\"Target not found\")\n",
    "            node_map[target][\"from\"].append(node)\n",
    "\n",
    "    # update initial memory for conjunctions\n",
    "    for node, node_info in node_map.items():\n",
    "        if node_info[\"type\"] == \"conjunction\":\n",
    "            for from_node in node_info[\"from\"]:\n",
    "                node_info[\"memory\"][from_node] = \"off\"\n",
    "    return node_map\n",
    "        "
   ]
  },
  {
   "cell_type": "code",
   "execution_count": null,
   "metadata": {},
   "outputs": [],
   "source": []
  },
  {
   "cell_type": "code",
   "execution_count": 90,
   "metadata": {},
   "outputs": [],
   "source": [
    "def process_broadcast(node, from_node, pulse):\n",
    "    events = []\n",
    "    for target in node[\"targets\"]:\n",
    "        # event: source, target, pulse\n",
    "        # just continue redirect\n",
    "        events.append((node[\"name\"], target, pulse))\n",
    "    return events"
   ]
  },
  {
   "cell_type": "code",
   "execution_count": 91,
   "metadata": {},
   "outputs": [],
   "source": [
    "def process_flipflop(node, from_node, pulse):\n",
    "    events = []\n",
    "\n",
    "    if pulse == \"high\":\n",
    "        # nothing happens\n",
    "        return events\n",
    "    elif pulse == \"low\":\n",
    "        # flip state\n",
    "        if node[\"state\"] == \"off\":\n",
    "            node[\"state\"] = \"on\"\n",
    "        elif node[\"state\"] == \"on\":\n",
    "            node[\"state\"] = \"off\"\n",
    "        else:\n",
    "            raise Exception(f\"Invalid state {node['state']}\")\n",
    "\n",
    "\n",
    "        # send out\n",
    "        out_pulse = \"high\" if node[\"state\"] == \"on\" else \"low\"\n",
    "        for target in node[\"targets\"]:\n",
    "            # event: source, target, pulse\n",
    "            events.append((node[\"name\"], target, out_pulse))\n",
    "        return events"
   ]
  },
  {
   "cell_type": "code",
   "execution_count": 92,
   "metadata": {},
   "outputs": [],
   "source": [
    "def process_none(node, from_node, pulse):\n",
    "    if pulse == \"high\":\n",
    "        return []\n",
    "    elif pulse == \"low\":\n",
    "        return [(\"!\", \"!\", \"low\")]"
   ]
  },
  {
   "cell_type": "code",
   "execution_count": 93,
   "metadata": {},
   "outputs": [],
   "source": [
    "def process_conjunction(node, from_node, pulse):\n",
    "    # first update memory for that input\n",
    "    node[\"memory\"][from_node] = pulse\n",
    "\n",
    "    events = []\n",
    "    # if high on all memory, send out low\n",
    "    if all([v == \"high\" for v in node[\"memory\"].values()]):\n",
    "        for target in node[\"targets\"]:\n",
    "            # event: source, target, pulse\n",
    "            events.append((node[\"name\"], target, \"low\"))\n",
    "        return events\n",
    "    else:\n",
    "        # send a high to all targets\n",
    "        for target in node[\"targets\"]:\n",
    "            # event: source, target, pulse\n",
    "            events.append((node[\"name\"], target, \"high\"))\n",
    "        return events"
   ]
  },
  {
   "cell_type": "code",
   "execution_count": 106,
   "metadata": {},
   "outputs": [
    {
     "name": "stdout",
     "output_type": "stream",
     "text": [
      "Node rx not found, creating...\n"
     ]
    }
   ],
   "source": [
    "with open(\"day20.txt\", \"r\") as f:\n",
    "    lines = [line.strip() for line in f.readlines()]\n",
    "node_map = parse_lines(lines)"
   ]
  },
  {
   "cell_type": "code",
   "execution_count": 107,
   "metadata": {},
   "outputs": [
    {
     "name": "stdout",
     "output_type": "stream",
     "text": [
      "Run 0\n",
      "Run 10000\n",
      "Run 20000\n",
      "Run 30000\n",
      "Run 40000\n",
      "Run 50000\n",
      "Run 60000\n",
      "Run 70000\n",
      "Run 80000\n",
      "Run 90000\n"
     ]
    }
   ],
   "source": [
    "total_high_pulse_count = 0\n",
    "total_low_pulse_count = 0\n",
    "\n",
    "last_level_hits = {\n",
    "    \"rz\":[],\n",
    "    \"lf\": [],\n",
    "    \"br\": [],\n",
    "    \"fk\": [],\n",
    "}\n",
    "\n",
    "for run_idx in range(100000):\n",
    "    if run_idx % 10000 == 0:\n",
    "        print(f\"Run {run_idx}\")\n",
    "    queue = []\n",
    "    queue.append((\"button\", \"broadcaster\", \"low\"))\n",
    "\n",
    "    iter_step = 0\n",
    "    while len(queue) > 0 and iter_step < 100000:\n",
    "        if iter_step > 80000:\n",
    "            print(f\"Run {run_idx}, iter {iter_step}\")\n",
    "        iter_step += 1\n",
    "        source, target, pulse = queue.pop(0)\n",
    "\n",
    "        if source == \"!\" and target == \"!\":\n",
    "            print(\"ok at run idx\", run_idx)\n",
    "            break\n",
    "        # if source == \"rz\" and target == \"lb\" and pulse == \"high\":\n",
    "        #     debug_hit.append(run_idx)\n",
    "        #     print(\"node sending...\", \"run_idx\", run_idx)\n",
    "        #     print(f\"{source} --({pulse})--> {target}\")\n",
    "        if source in last_level_hits and target == \"lb\" and pulse == \"high\":\n",
    "            last_level_hits[source].append(run_idx)\n",
    "            # print(\"node sending...\", \"run_idx\", run_idx)\n",
    "            # print(f\"{source} --({pulse})--> {target}\")\n",
    "\n",
    "        if pulse == \"high\":\n",
    "            total_high_pulse_count += 1\n",
    "        elif pulse == \"low\":\n",
    "            total_low_pulse_count += 1\n",
    "\n",
    "        node = node_map[target]\n",
    "        # print(\"node: \", node)\n",
    "        if node[\"type\"] == \"broadcaster\":\n",
    "            queue.extend(process_broadcast(node, source, pulse))\n",
    "        elif node[\"type\"] == \"flipflop\":\n",
    "            queue.extend(process_flipflop(node, source, pulse))\n",
    "        elif node[\"type\"] == \"none\":\n",
    "            queue.extend(process_none(node, source, pulse))\n",
    "        elif node[\"type\"] == \"conjunction\":\n",
    "            queue.extend(process_conjunction(node, source, pulse))\n",
    "        else:\n",
    "            raise Exception(f\"Invalid node type {node['type']}\")\n",
    "            # print(f\"Queue: {queue}\")\n",
    "\n",
    "# total_high_pulse_count * total_low_pulse_count"
   ]
  },
  {
   "cell_type": "code",
   "execution_count": 109,
   "metadata": {},
   "outputs": [
    {
     "data": {
      "text/plain": [
       "{'rz': [4056,\n",
       "  8113,\n",
       "  12170,\n",
       "  16227,\n",
       "  20284,\n",
       "  24341,\n",
       "  28398,\n",
       "  32455,\n",
       "  36512,\n",
       "  40569,\n",
       "  44626,\n",
       "  48683,\n",
       "  52740,\n",
       "  56797,\n",
       "  60854,\n",
       "  64911,\n",
       "  68968,\n",
       "  73025,\n",
       "  77082,\n",
       "  81139,\n",
       "  85196,\n",
       "  89253,\n",
       "  93310,\n",
       "  97367],\n",
       " 'lf': [3910,\n",
       "  7821,\n",
       "  11732,\n",
       "  15643,\n",
       "  19554,\n",
       "  23465,\n",
       "  27376,\n",
       "  31287,\n",
       "  35198,\n",
       "  39109,\n",
       "  43020,\n",
       "  46931,\n",
       "  50842,\n",
       "  54753,\n",
       "  58664,\n",
       "  62575,\n",
       "  66486,\n",
       "  70397,\n",
       "  74308,\n",
       "  78219,\n",
       "  82130,\n",
       "  86041,\n",
       "  89952,\n",
       "  93863,\n",
       "  97774],\n",
       " 'br': [3876,\n",
       "  7753,\n",
       "  11630,\n",
       "  15507,\n",
       "  19384,\n",
       "  23261,\n",
       "  27138,\n",
       "  31015,\n",
       "  34892,\n",
       "  38769,\n",
       "  42646,\n",
       "  46523,\n",
       "  50400,\n",
       "  54277,\n",
       "  58154,\n",
       "  62031,\n",
       "  65908,\n",
       "  69785,\n",
       "  73662,\n",
       "  77539,\n",
       "  81416,\n",
       "  85293,\n",
       "  89170,\n",
       "  93047,\n",
       "  96924],\n",
       " 'fk': [4078,\n",
       "  8157,\n",
       "  12236,\n",
       "  16315,\n",
       "  20394,\n",
       "  24473,\n",
       "  28552,\n",
       "  32631,\n",
       "  36710,\n",
       "  40789,\n",
       "  44868,\n",
       "  48947,\n",
       "  53026,\n",
       "  57105,\n",
       "  61184,\n",
       "  65263,\n",
       "  69342,\n",
       "  73421,\n",
       "  77500,\n",
       "  81579,\n",
       "  85658,\n",
       "  89737,\n",
       "  93816,\n",
       "  97895]}"
      ]
     },
     "execution_count": 109,
     "metadata": {},
     "output_type": "execute_result"
    }
   ],
   "source": [
    "last_level_hits"
   ]
  },
  {
   "cell_type": "code",
   "execution_count": 111,
   "metadata": {},
   "outputs": [
    {
     "name": "stdout",
     "output_type": "stream",
     "text": [
      "rz 4056 4057 [4057, 4057, 4057, 4057, 4057, 4057, 4057, 4057, 4057, 4057, 4057, 4057, 4057, 4057, 4057, 4057, 4057, 4057, 4057, 4057, 4057, 4057, 4057]\n",
      "lf 3910 3911 [3911, 3911, 3911, 3911, 3911, 3911, 3911, 3911, 3911, 3911, 3911, 3911, 3911, 3911, 3911, 3911, 3911, 3911, 3911, 3911, 3911, 3911, 3911, 3911]\n",
      "br 3876 3877 [3877, 3877, 3877, 3877, 3877, 3877, 3877, 3877, 3877, 3877, 3877, 3877, 3877, 3877, 3877, 3877, 3877, 3877, 3877, 3877, 3877, 3877, 3877, 3877]\n",
      "fk 4078 4079 [4079, 4079, 4079, 4079, 4079, 4079, 4079, 4079, 4079, 4079, 4079, 4079, 4079, 4079, 4079, 4079, 4079, 4079, 4079, 4079, 4079, 4079, 4079]\n"
     ]
    }
   ],
   "source": [
    "# one order diff of debug_hit\n",
    "# diff_1 = [debug_hit[i+1] - debug_hit[i] for i in range(len(debug_hit)-1)]\n",
    "# diff_1\n",
    "\n",
    "for k,v in last_level_hits.items():\n",
    "    diff_1 = [v[i+1] - v[i] for i in range(len(v)-1)]\n",
    "    print(k, v[0], diff_1[0] ,diff_1)"
   ]
  },
  {
   "cell_type": "code",
   "execution_count": 116,
   "metadata": {},
   "outputs": [],
   "source": [
    "# find the smallest common multiple of all diff_1\n",
    "from functools import reduce\n",
    "def scm(numbers):\n",
    "    # find the smallest common multiple of all numbers\n",
    "    # https://stackoverflow.com/questions/147515/least-common-multiple-for-3-or-more-numbers\n",
    "    def gcd(a, b):\n",
    "        while b:\n",
    "            a, b = b, a % b\n",
    "        return a\n",
    "\n",
    "    def lcm(a, b):\n",
    "        return a * b // gcd(a, b)\n",
    "\n",
    "    def lcmm(*args):\n",
    "        return reduce(lcm, args)\n",
    "\n",
    "    return lcmm(*numbers)"
   ]
  },
  {
   "cell_type": "code",
   "execution_count": 118,
   "metadata": {},
   "outputs": [
    {
     "data": {
      "text/plain": [
       "250924073918341"
      ]
     },
     "execution_count": 118,
     "metadata": {},
     "output_type": "execute_result"
    }
   ],
   "source": [
    "scm([4057,3911,3877,4079])"
   ]
  },
  {
   "cell_type": "code",
   "execution_count": 55,
   "metadata": {},
   "outputs": [
    {
     "data": {
      "text/plain": [
       "{'type': 'none', 'targets': [], 'from': ['lb'], 'name': 'rx'}"
      ]
     },
     "execution_count": 55,
     "metadata": {},
     "output_type": "execute_result"
    }
   ],
   "source": [
    "node_map['rx']"
   ]
  },
  {
   "cell_type": "code",
   "execution_count": 56,
   "metadata": {},
   "outputs": [
    {
     "data": {
      "text/plain": [
       "{'type': 'conjunction',\n",
       " 'targets': ['rx'],\n",
       " 'from': ['rz', 'lf', 'br', 'fk'],\n",
       " 'name': 'lb',\n",
       " 'memory': {'rz': 'low', 'lf': 'low', 'br': 'low', 'fk': 'low'}}"
      ]
     },
     "execution_count": 56,
     "metadata": {},
     "output_type": "execute_result"
    }
   ],
   "source": [
    "node_map['lb']"
   ]
  },
  {
   "cell_type": "code",
   "execution_count": 57,
   "metadata": {},
   "outputs": [
    {
     "data": {
      "text/plain": [
       "{'type': 'conjunction',\n",
       " 'targets': ['lb'],\n",
       " 'from': ['th'],\n",
       " 'name': 'rz',\n",
       " 'memory': {'th': 'high'}}"
      ]
     },
     "execution_count": 57,
     "metadata": {},
     "output_type": "execute_result"
    }
   ],
   "source": [
    "node_map['rz']"
   ]
  },
  {
   "cell_type": "code",
   "execution_count": 58,
   "metadata": {},
   "outputs": [
    {
     "data": {
      "text/plain": [
       "{'type': 'conjunction',\n",
       " 'targets': ['mj', 'rz', 'np', 'fq', 'cm'],\n",
       " 'from': ['xb', 'gp', 'mj', 'fm', 'xd', 'hh', 'sx', 'dq', 'dj'],\n",
       " 'name': 'th',\n",
       " 'memory': {'xb': 'off',\n",
       "  'gp': 'off',\n",
       "  'mj': 'low',\n",
       "  'fm': 'off',\n",
       "  'xd': 'off',\n",
       "  'hh': 'off',\n",
       "  'sx': 'off',\n",
       "  'dq': 'off',\n",
       "  'dj': 'off'}}"
      ]
     },
     "execution_count": 58,
     "metadata": {},
     "output_type": "execute_result"
    }
   ],
   "source": [
    "node_map['th']"
   ]
  },
  {
   "cell_type": "code",
   "execution_count": 59,
   "metadata": {},
   "outputs": [
    {
     "data": {
      "text/plain": [
       "59"
      ]
     },
     "execution_count": 59,
     "metadata": {},
     "output_type": "execute_result"
    }
   ],
   "source": [
    "len(node_map)"
   ]
  },
  {
   "cell_type": "code",
   "execution_count": null,
   "metadata": {},
   "outputs": [],
   "source": []
  }
 ],
 "metadata": {
  "kernelspec": {
   "display_name": "myenv",
   "language": "python",
   "name": "python3"
  },
  "language_info": {
   "codemirror_mode": {
    "name": "ipython",
    "version": 3
   },
   "file_extension": ".py",
   "mimetype": "text/x-python",
   "name": "python",
   "nbconvert_exporter": "python",
   "pygments_lexer": "ipython3",
   "version": "3.9.6"
  }
 },
 "nbformat": 4,
 "nbformat_minor": 2
}
