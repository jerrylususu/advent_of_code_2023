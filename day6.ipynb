{
 "cells": [
  {
   "cell_type": "code",
   "execution_count": 15,
   "metadata": {},
   "outputs": [],
   "source": [
    "with open(\"day6.txt\", \"r\") as f:\n",
    "    lines = f.readlines()\n",
    "    time_str = lines[0]\n",
    "    distance_str = lines[1]\n",
    "\n",
    "    times = [int(i) for i in time_str.split()[1:]]\n",
    "    distances = [int(i) for i in distance_str.split()[1:]]"
   ]
  },
  {
   "cell_type": "code",
   "execution_count": 16,
   "metadata": {},
   "outputs": [
    {
     "data": {
      "text/plain": [
       "[55, 99, 97, 93]"
      ]
     },
     "execution_count": 16,
     "metadata": {},
     "output_type": "execute_result"
    }
   ],
   "source": [
    "times"
   ]
  },
  {
   "cell_type": "code",
   "execution_count": 17,
   "metadata": {},
   "outputs": [
    {
     "data": {
      "text/plain": [
       "[401, 1485, 2274, 1405]"
      ]
     },
     "execution_count": 17,
     "metadata": {},
     "output_type": "execute_result"
    }
   ],
   "source": [
    "distances"
   ]
  },
  {
   "cell_type": "code",
   "execution_count": 18,
   "metadata": {},
   "outputs": [
    {
     "name": "stdout",
     "output_type": "stream",
     "text": [
      "Time: 55 Distance: 401\n",
      "Time: 99 Distance: 1485\n",
      "Time: 97 Distance: 2274\n",
      "Time: 93 Distance: 1405\n"
     ]
    }
   ],
   "source": [
    "win_ways = []\n",
    "for i in range(len(times)):\n",
    "    print(\"Time: {} Distance: {}\".format(times[i], distances[i]))\n",
    "\n",
    "    win_way = 0\n",
    "    # check possible win numbers\n",
    "    for hold_sec in range(0, times[i] + 1):\n",
    "        run_sec = times[i] - hold_sec\n",
    "        run_distance = run_sec * hold_sec\n",
    "        # print(\"Hold: {} Run: {} Distance: {}\".format(hold_sec, run_sec, run_distance))\n",
    "        if run_distance > distances[i]:\n",
    "            win_way += 1\n",
    "\n",
    "    win_ways.append(win_way)"
   ]
  },
  {
   "cell_type": "code",
   "execution_count": 19,
   "metadata": {},
   "outputs": [
    {
     "data": {
      "text/plain": [
       "[38, 62, 18, 56]"
      ]
     },
     "execution_count": 19,
     "metadata": {},
     "output_type": "execute_result"
    }
   ],
   "source": [
    "win_ways"
   ]
  },
  {
   "cell_type": "code",
   "execution_count": 20,
   "metadata": {},
   "outputs": [
    {
     "data": {
      "text/plain": [
       "2374848"
      ]
     },
     "execution_count": 20,
     "metadata": {},
     "output_type": "execute_result"
    }
   ],
   "source": [
    "# multiple all values in win_ways\n",
    "from functools import reduce\n",
    "reduce(lambda x, y: x * y, win_ways)"
   ]
  },
  {
   "cell_type": "code",
   "execution_count": null,
   "metadata": {},
   "outputs": [],
   "source": []
  },
  {
   "cell_type": "code",
   "execution_count": null,
   "metadata": {},
   "outputs": [],
   "source": []
  },
  {
   "cell_type": "code",
   "execution_count": null,
   "metadata": {},
   "outputs": [],
   "source": []
  },
  {
   "cell_type": "code",
   "execution_count": 24,
   "metadata": {},
   "outputs": [],
   "source": [
    "with open(\"day6.txt\", \"r\") as f:\n",
    "    lines = f.readlines()\n",
    "    time_str = lines[0]\n",
    "    distance_str = lines[1]\n",
    "\n",
    "    times = [int(i) for i in [\"\".join(time_str.split()[1:])]]\n",
    "    distances = [int(i) for i in [\"\".join(distance_str.split()[1:])]]"
   ]
  },
  {
   "cell_type": "code",
   "execution_count": 25,
   "metadata": {},
   "outputs": [
    {
     "data": {
      "text/plain": [
       "[55999793]"
      ]
     },
     "execution_count": 25,
     "metadata": {},
     "output_type": "execute_result"
    }
   ],
   "source": [
    "times"
   ]
  },
  {
   "cell_type": "code",
   "execution_count": 26,
   "metadata": {},
   "outputs": [
    {
     "data": {
      "text/plain": [
       "[401148522741405]"
      ]
     },
     "execution_count": 26,
     "metadata": {},
     "output_type": "execute_result"
    }
   ],
   "source": [
    "distances"
   ]
  },
  {
   "cell_type": "code",
   "execution_count": 27,
   "metadata": {},
   "outputs": [
    {
     "name": "stdout",
     "output_type": "stream",
     "text": [
      "Time: 55999793 Distance: 401148522741405\n"
     ]
    }
   ],
   "source": [
    "win_ways = []\n",
    "for i in range(len(times)):\n",
    "    print(\"Time: {} Distance: {}\".format(times[i], distances[i]))\n",
    "\n",
    "    win_way = 0\n",
    "    # check possible win numbers\n",
    "    for hold_sec in range(0, times[i] + 1):\n",
    "        run_sec = times[i] - hold_sec\n",
    "        run_distance = run_sec * hold_sec\n",
    "        # print(\"Hold: {} Run: {} Distance: {}\".format(hold_sec, run_sec, run_distance))\n",
    "        if run_distance > distances[i]:\n",
    "            win_way += 1\n",
    "\n",
    "    win_ways.append(win_way)"
   ]
  },
  {
   "cell_type": "code",
   "execution_count": 28,
   "metadata": {},
   "outputs": [
    {
     "data": {
      "text/plain": [
       "[39132886]"
      ]
     },
     "execution_count": 28,
     "metadata": {},
     "output_type": "execute_result"
    }
   ],
   "source": [
    "win_ways"
   ]
  },
  {
   "cell_type": "code",
   "execution_count": null,
   "metadata": {},
   "outputs": [
    {
     "data": {
      "text/plain": [
       "2374848"
      ]
     },
     "metadata": {},
     "output_type": "display_data"
    }
   ],
   "source": [
    "# multiple all values in win_ways\n",
    "from functools import reduce\n",
    "reduce(lambda x, y: x * y, win_ways)"
   ]
  }
 ],
 "metadata": {
  "kernelspec": {
   "display_name": "Python 3",
   "language": "python",
   "name": "python3"
  },
  "language_info": {
   "codemirror_mode": {
    "name": "ipython",
    "version": 3
   },
   "file_extension": ".py",
   "mimetype": "text/x-python",
   "name": "python",
   "nbconvert_exporter": "python",
   "pygments_lexer": "ipython3",
   "version": "3.10.13"
  }
 },
 "nbformat": 4,
 "nbformat_minor": 2
}
